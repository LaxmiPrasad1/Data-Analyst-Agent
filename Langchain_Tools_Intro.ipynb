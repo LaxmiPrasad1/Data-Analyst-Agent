{
 "cells": [
  {
   "cell_type": "markdown",
   "id": "b457a882",
   "metadata": {},
   "source": [
    "### 1.Fetch details from Wikipedia using Langchain"
   ]
  },
  {
   "cell_type": "code",
   "execution_count": 6,
   "id": "9bc1749e",
   "metadata": {},
   "outputs": [],
   "source": [
    "from langchain_community.tools import WikipediaQueryRun\n",
    "from langchain_community.utilities import WikipediaAPIWrapper\n",
    "from pprint import pprint"
   ]
  },
  {
   "cell_type": "code",
   "execution_count": 2,
   "id": "bd4e8fb1",
   "metadata": {},
   "outputs": [],
   "source": [
    "api_wrapper=WikipediaAPIWrapper(top_k_results=4,doc_content_chars_max=1000)\n",
    "\n",
    "wiki_tool=WikipediaQueryRun(api_wrapper=api_wrapper)"
   ]
  },
  {
   "cell_type": "code",
   "execution_count": 3,
   "id": "104ca0a8",
   "metadata": {},
   "outputs": [
    {
     "data": {
      "text/plain": [
       "'wikipedia'"
      ]
     },
     "execution_count": 3,
     "metadata": {},
     "output_type": "execute_result"
    }
   ],
   "source": [
    "wiki_tool.name"
   ]
  },
  {
   "cell_type": "code",
   "execution_count": 4,
   "id": "822055ae",
   "metadata": {},
   "outputs": [
    {
     "data": {
      "text/plain": [
       "{'query': {'description': 'query to look up on wikipedia',\n",
       "  'title': 'Query',\n",
       "  'type': 'string'}}"
      ]
     },
     "execution_count": 4,
     "metadata": {},
     "output_type": "execute_result"
    }
   ],
   "source": [
    "wiki_tool.args"
   ]
  },
  {
   "cell_type": "code",
   "execution_count": null,
   "id": "d7324fcd",
   "metadata": {},
   "outputs": [
    {
     "name": "stdout",
     "output_type": "stream",
     "text": [
      "('Page: MS Dhoni\\n'\n",
      " 'Summary: Mahendra Singh Dhoni ( ; born 7 July 1981) is an Indian '\n",
      " 'professional cricketer who plays as a right-handed batter and a '\n",
      " 'wicket-keeper. Widely regarded as one of the most prolific wicket-keeper '\n",
      " 'batsmen and captains and one of the greatest ODI batsmen, he represented the '\n",
      " 'Indian cricket team and was the captain of the side in limited overs formats '\n",
      " 'from 2007 to 2017 and in test cricket from 2008 to 2014. Dhoni has captained '\n",
      " 'the most international matches and is the most successful Indian captain. He '\n",
      " 'has led India to victory in the 2007 ICC World Twenty20, the 2011 Cricket '\n",
      " 'World Cup, and the 2013 ICC Champions Trophy, being the only captain to win '\n",
      " 'three different limited overs ICC tournaments. He also led the teams that '\n",
      " 'won the Asia Cup in 2010, 2016 and was a member of the title winning squad '\n",
      " 'in 2018.\\n'\n",
      " 'Born in Ranchi, Dhoni made his first class debut for Bihar in 1999. He made '\n",
      " 'his debut for the Indian cricket team on 23 December 2004 in an ODI against '\n",
      " 'Bangladesh and ')\n"
     ]
    }
   ],
   "source": [
    "query=\"MS Dhoni\"\n",
    "\n",
    "answer=wiki_tool.run(query)\n",
    "\n",
    "pprint(answer)"
   ]
  },
  {
   "cell_type": "code",
   "execution_count": 10,
   "id": "b30927f2",
   "metadata": {},
   "outputs": [
    {
     "data": {
      "text/plain": [
       "str"
      ]
     },
     "execution_count": 10,
     "metadata": {},
     "output_type": "execute_result"
    }
   ],
   "source": [
    "type(answer)"
   ]
  },
  {
   "cell_type": "markdown",
   "id": "dd8e5de6",
   "metadata": {},
   "source": [
    "### 2.Fetch data from Tavily"
   ]
  },
  {
   "cell_type": "code",
   "execution_count": 3,
   "id": "db866148",
   "metadata": {},
   "outputs": [
    {
     "data": {
      "text/plain": [
       "True"
      ]
     },
     "execution_count": 3,
     "metadata": {},
     "output_type": "execute_result"
    }
   ],
   "source": [
    "import os\n",
    "from dotenv import load_dotenv\n",
    "from langchain_community.tools import TavilySearchResults\n",
    "\n",
    "load_dotenv()"
   ]
  },
  {
   "cell_type": "code",
   "execution_count": 2,
   "id": "9e69d9db",
   "metadata": {},
   "outputs": [],
   "source": [
    "TAVILY_API_KEY=os.getenv('TAVILY_API_KEY')"
   ]
  },
  {
   "cell_type": "code",
   "execution_count": 4,
   "id": "84c27111",
   "metadata": {},
   "outputs": [],
   "source": [
    "tvl_tool=TavilySearchResults(tavily_api_key=TAVILY_API_KEY)"
   ]
  },
  {
   "cell_type": "code",
   "execution_count": 10,
   "id": "7252882d",
   "metadata": {},
   "outputs": [],
   "source": [
    "tvl_results=tvl_tool.invoke({\"query\":\"What happened between Israel and Iran\"})"
   ]
  },
  {
   "cell_type": "code",
   "execution_count": 11,
   "id": "1caa19c7",
   "metadata": {},
   "outputs": [
    {
     "data": {
      "text/plain": [
       "[{'title': 'Iran–Israel proxy conflict - Wikipedia',\n",
       "  'url': 'https://en.wikipedia.org/wiki/Iran%E2%80%93Israel_proxy_conflict',\n",
       "  'content': '[Archived](https://web.archive.org/web/20190327090114/https://www.theguardian.com/world/2018/may/10/israel-has-hit-nearly-all-iranian-infrastructure-in-syria-military-claims) from the original on 27 March 2019. Retrieved 22 May 2019. Israel and Iran have been urged to step back from the brink after their most serious direct confrontation, with Israeli missiles being fired over war-torn Syria in a \"wide-scale\" retaliatory attack many fear could drag the foes into a spiralling war. [...] On June 13 2025 Israel initiated Operation Rising Lion, a large‑scale aerial assault targeting Iranian nuclear facilities, missile factories, military sites, and commanders across cities including Tehran and Natanz. Among the targets were also [Revolutionary Guard](https://en.wikipedia.org/wiki/Revolutionary_Guard_Corps \"Revolutionary Guard Corps\") commander [Hossein Salami](https://en.wikipedia.org/wiki/Hossein_Salami \"Hossein Salami\") and other senior [...] On the night between 30 July and 31 July, two senior figures of Iranian backed proxy groups were killed in assassinations attributed to Israel by Iran.[[278]](https://en.wikipedia.org/wiki/Iran%E2%80%93Israel_proxy_conflict#cite_note-279)',\n",
       "  'score': 0.78749067}]"
      ]
     },
     "execution_count": 11,
     "metadata": {},
     "output_type": "execute_result"
    }
   ],
   "source": [
    "tvl_results"
   ]
  },
  {
   "cell_type": "markdown",
   "id": "af76412e",
   "metadata": {},
   "source": [
    "### 3.Search data from Youtube"
   ]
  },
  {
   "cell_type": "code",
   "execution_count": 7,
   "id": "f3e455a2",
   "metadata": {},
   "outputs": [],
   "source": [
    "from langchain_community.tools import YouTubeSearchTool"
   ]
  },
  {
   "cell_type": "code",
   "execution_count": 8,
   "id": "19bc58c4",
   "metadata": {},
   "outputs": [
    {
     "data": {
      "text/plain": [
       "'search for youtube videos associated with a person. the input to this tool should be a comma separated list, the first part contains a person name and the second a number that is the maximum number of video results to return aka num_results. the second part is optional'"
      ]
     },
     "execution_count": 8,
     "metadata": {},
     "output_type": "execute_result"
    }
   ],
   "source": [
    "yt_tool=YouTubeSearchTool()\n",
    "\n",
    "yt_tool.name\n",
    "yt_tool.description"
   ]
  },
  {
   "cell_type": "code",
   "execution_count": 9,
   "id": "f8f8a205",
   "metadata": {},
   "outputs": [
    {
     "data": {
      "text/plain": [
       "\"['https://www.youtube.com/watch?v=t_SUjjSwmbQ&pp=ygUITVMgRGhvbmk%3D', 'https://www.youtube.com/shorts/H37lGMykFJ4']\""
      ]
     },
     "execution_count": 9,
     "metadata": {},
     "output_type": "execute_result"
    }
   ],
   "source": [
    "yt_tool.run(\"MS Dhoni\")"
   ]
  },
  {
   "cell_type": "markdown",
   "id": "e1f1cbe1",
   "metadata": {},
   "source": [
    "#### 4. Creating Custom Tools using langchain.agents"
   ]
  },
  {
   "cell_type": "code",
   "execution_count": 13,
   "id": "20d28b30",
   "metadata": {},
   "outputs": [],
   "source": [
    "from langchain.agents import tool"
   ]
  },
  {
   "cell_type": "code",
   "execution_count": 15,
   "id": "1b801cea",
   "metadata": {},
   "outputs": [],
   "source": [
    "@tool\n",
    "def multiply(a:int,b:int)->int:\n",
    "    \"\"\" This is the Multiplication Tool\"\"\" # this doc string is mandatory for all the tools\n",
    "    return a*b"
   ]
  },
  {
   "cell_type": "code",
   "execution_count": 16,
   "id": "253e7539",
   "metadata": {},
   "outputs": [
    {
     "data": {
      "text/plain": [
       "10"
      ]
     },
     "execution_count": 16,
     "metadata": {},
     "output_type": "execute_result"
    }
   ],
   "source": [
    "multiply.invoke({\"a\":5,\"b\":2})"
   ]
  },
  {
   "cell_type": "code",
   "execution_count": 18,
   "id": "becf6a7a",
   "metadata": {},
   "outputs": [
    {
     "data": {
      "text/plain": [
       "{'a': {'title': 'A', 'type': 'integer'},\n",
       " 'b': {'title': 'B', 'type': 'integer'}}"
      ]
     },
     "execution_count": 18,
     "metadata": {},
     "output_type": "execute_result"
    }
   ],
   "source": [
    "multiply.args"
   ]
  },
  {
   "cell_type": "code",
   "execution_count": 19,
   "id": "23cdc422",
   "metadata": {},
   "outputs": [
    {
     "data": {
      "text/plain": [
       "'This is the Multiplication Tool'"
      ]
     },
     "execution_count": 19,
     "metadata": {},
     "output_type": "execute_result"
    }
   ],
   "source": [
    "multiply.description"
   ]
  },
  {
   "cell_type": "code",
   "execution_count": null,
   "id": "36a88b07",
   "metadata": {},
   "outputs": [],
   "source": []
  }
 ],
 "metadata": {
  "kernelspec": {
   "display_name": "agentic-ai-env",
   "language": "python",
   "name": "python3"
  },
  "language_info": {
   "codemirror_mode": {
    "name": "ipython",
    "version": 3
   },
   "file_extension": ".py",
   "mimetype": "text/x-python",
   "name": "python",
   "nbconvert_exporter": "python",
   "pygments_lexer": "ipython3",
   "version": "3.11.13"
  }
 },
 "nbformat": 4,
 "nbformat_minor": 5
}

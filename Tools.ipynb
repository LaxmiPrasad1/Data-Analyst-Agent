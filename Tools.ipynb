{
 "cells": [
  {
   "cell_type": "markdown",
   "id": "b457a882",
   "metadata": {},
   "source": [
    "## Fetch details from Wikipedia using Langchain"
   ]
  },
  {
   "cell_type": "code",
   "execution_count": 6,
   "id": "9bc1749e",
   "metadata": {},
   "outputs": [],
   "source": [
    "from langchain_community.tools import WikipediaQueryRun\n",
    "from langchain_community.utilities import WikipediaAPIWrapper\n",
    "from pprint import pprint"
   ]
  },
  {
   "cell_type": "code",
   "execution_count": 2,
   "id": "bd4e8fb1",
   "metadata": {},
   "outputs": [],
   "source": [
    "api_wrapper=WikipediaAPIWrapper(top_k_results=4,doc_content_chars_max=1000)\n",
    "\n",
    "wiki_tool=WikipediaQueryRun(api_wrapper=api_wrapper)"
   ]
  },
  {
   "cell_type": "code",
   "execution_count": 3,
   "id": "104ca0a8",
   "metadata": {},
   "outputs": [
    {
     "data": {
      "text/plain": [
       "'wikipedia'"
      ]
     },
     "execution_count": 3,
     "metadata": {},
     "output_type": "execute_result"
    }
   ],
   "source": [
    "wiki_tool.name"
   ]
  },
  {
   "cell_type": "code",
   "execution_count": 4,
   "id": "822055ae",
   "metadata": {},
   "outputs": [
    {
     "data": {
      "text/plain": [
       "{'query': {'description': 'query to look up on wikipedia',\n",
       "  'title': 'Query',\n",
       "  'type': 'string'}}"
      ]
     },
     "execution_count": 4,
     "metadata": {},
     "output_type": "execute_result"
    }
   ],
   "source": [
    "wiki_tool.args"
   ]
  },
  {
   "cell_type": "code",
   "execution_count": null,
   "id": "d7324fcd",
   "metadata": {},
   "outputs": [
    {
     "name": "stdout",
     "output_type": "stream",
     "text": [
      "('Page: MS Dhoni\\n'\n",
      " 'Summary: Mahendra Singh Dhoni ( ; born 7 July 1981) is an Indian '\n",
      " 'professional cricketer who plays as a right-handed batter and a '\n",
      " 'wicket-keeper. Widely regarded as one of the most prolific wicket-keeper '\n",
      " 'batsmen and captains and one of the greatest ODI batsmen, he represented the '\n",
      " 'Indian cricket team and was the captain of the side in limited overs formats '\n",
      " 'from 2007 to 2017 and in test cricket from 2008 to 2014. Dhoni has captained '\n",
      " 'the most international matches and is the most successful Indian captain. He '\n",
      " 'has led India to victory in the 2007 ICC World Twenty20, the 2011 Cricket '\n",
      " 'World Cup, and the 2013 ICC Champions Trophy, being the only captain to win '\n",
      " 'three different limited overs ICC tournaments. He also led the teams that '\n",
      " 'won the Asia Cup in 2010, 2016 and was a member of the title winning squad '\n",
      " 'in 2018.\\n'\n",
      " 'Born in Ranchi, Dhoni made his first class debut for Bihar in 1999. He made '\n",
      " 'his debut for the Indian cricket team on 23 December 2004 in an ODI against '\n",
      " 'Bangladesh and ')\n"
     ]
    }
   ],
   "source": [
    "query=\"MS Dhoni\"\n",
    "\n",
    "answer=wiki_tool.run(query)\n",
    "\n",
    "pprint(answer)"
   ]
  },
  {
   "cell_type": "code",
   "execution_count": 10,
   "id": "b30927f2",
   "metadata": {},
   "outputs": [
    {
     "data": {
      "text/plain": [
       "str"
      ]
     },
     "execution_count": 10,
     "metadata": {},
     "output_type": "execute_result"
    }
   ],
   "source": [
    "type(answer)"
   ]
  },
  {
   "cell_type": "code",
   "execution_count": null,
   "id": "dd8e5de6",
   "metadata": {},
   "outputs": [],
   "source": []
  }
 ],
 "metadata": {
  "kernelspec": {
   "display_name": "agentic-ai-env",
   "language": "python",
   "name": "python3"
  },
  "language_info": {
   "codemirror_mode": {
    "name": "ipython",
    "version": 3
   },
   "file_extension": ".py",
   "mimetype": "text/x-python",
   "name": "python",
   "nbconvert_exporter": "python",
   "pygments_lexer": "ipython3",
   "version": "3.11.13"
  }
 },
 "nbformat": 4,
 "nbformat_minor": 5
}

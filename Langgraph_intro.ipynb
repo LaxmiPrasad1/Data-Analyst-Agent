{
 "cells": [
  {
   "cell_type": "code",
   "execution_count": 3,
   "id": "036364c4",
   "metadata": {},
   "outputs": [],
   "source": [
    "from langgraph.graph import Graph"
   ]
  },
  {
   "cell_type": "code",
   "execution_count": 10,
   "id": "fb6fb7a3",
   "metadata": {},
   "outputs": [],
   "source": [
    "# Initialize the Graph workflow\n",
    "\n",
    "workflow=Graph()"
   ]
  },
  {
   "cell_type": "code",
   "execution_count": 11,
   "id": "34ce36e0",
   "metadata": {},
   "outputs": [],
   "source": [
    "# Define Node\n",
    "\n",
    "def Fun1_node(input1):\n",
    "    return input1+\" is my name\"\n",
    "\n",
    "def Fun2_node(input2):\n",
    "    return input2+\"  and I am a huge fan of MS Dhoni\"\n"
   ]
  },
  {
   "cell_type": "code",
   "execution_count": 12,
   "id": "0963448e",
   "metadata": {},
   "outputs": [
    {
     "data": {
      "text/plain": [
       "<langgraph.graph.graph.Graph at 0x2e0974a7a90>"
      ]
     },
     "execution_count": 12,
     "metadata": {},
     "output_type": "execute_result"
    }
   ],
   "source": [
    "workflow.add_node(\"Fun1\",Fun1_node)\n",
    "workflow.add_node(\"Fun2\",Fun2_node)"
   ]
  },
  {
   "cell_type": "code",
   "execution_count": 13,
   "id": "c1b2af5e",
   "metadata": {},
   "outputs": [
    {
     "data": {
      "text/plain": [
       "<langgraph.graph.graph.Graph at 0x2e0974a7a90>"
      ]
     },
     "execution_count": 13,
     "metadata": {},
     "output_type": "execute_result"
    }
   ],
   "source": [
    "workflow.add_edge(\"Fun1\",\"Fun2\")"
   ]
  },
  {
   "cell_type": "code",
   "execution_count": null,
   "id": "94a1e03b",
   "metadata": {},
   "outputs": [
    {
     "data": {
      "text/plain": [
       "<langgraph.graph.graph.Graph at 0x2e0974a7a90>"
      ]
     },
     "execution_count": 14,
     "metadata": {},
     "output_type": "execute_result"
    }
   ],
   "source": [
    "workflow.set_entry_point(\"Fun1\") # Setting up Starting point of the node\n",
    "workflow.set_finish_point(\"Fun2\") # Setting up Finish point of the node"
   ]
  },
  {
   "cell_type": "code",
   "execution_count": 15,
   "id": "332fa71b",
   "metadata": {},
   "outputs": [],
   "source": [
    "app=workflow.compile()"
   ]
  },
  {
   "cell_type": "code",
   "execution_count": 16,
   "id": "e2a78364",
   "metadata": {},
   "outputs": [
    {
     "data": {
      "image/png": "[encoded data removed]",
      "text/plain": [
       "<langgraph.graph.graph.CompiledGraph object at 0x000002E0974D5410>"
      ]
     },
     "execution_count": 16,
     "metadata": {},
     "output_type": "execute_result"
    }
   ],
   "source": [
    "app"
   ]
  },
  {
   "cell_type": "code",
   "execution_count": 17,
   "id": "b1de7d71",
   "metadata": {},
   "outputs": [
    {
     "data": {
      "text/plain": [
       "'Prasad is my name  and I am a huge fan of MS Dhoni'"
      ]
     },
     "execution_count": 17,
     "metadata": {},
     "output_type": "execute_result"
    }
   ],
   "source": [
    "app.invoke(\"Prasad\")"
   ]
  },
  {
   "cell_type": "code",
   "execution_count": 18,
   "id": "f002292c",
   "metadata": {},
   "outputs": [
    {
     "name": "stdout",
     "output_type": "stream",
     "text": [
      "Fun1 Prasad is my name\n",
      "---------------------\n",
      "Fun2 Prasad is my name  and I am a huge fan of MS Dhoni\n",
      "---------------------\n"
     ]
    }
   ],
   "source": [
    "for output in app.stream(\"Prasad\"):\n",
    "    for key,value in output.items():\n",
    "        print(key,value)\n",
    "        print(\"---------------------\")"
   ]
  },
  {
   "cell_type": "code",
   "execution_count": 24,
   "id": "588d700b",
   "metadata": {},
   "outputs": [
    {
     "data": {
      "text/plain": [
       "<generator object Pregel.stream at 0x000002E097680F40>"
      ]
     },
     "execution_count": 24,
     "metadata": {},
     "output_type": "execute_result"
    }
   ],
   "source": [
    "app.stream(\"Prasad\")"
   ]
  },
  {
   "cell_type": "code",
   "execution_count": 21,
   "id": "6e639085",
   "metadata": {},
   "outputs": [
    {
     "name": "stdout",
     "output_type": "stream",
     "text": [
      "Prasad is my name ---> is the output from : Fun1\n",
      "---------------------\n",
      "Prasad is my name  and I am a huge fan of MS Dhoni ---> is the output from : Fun2\n",
      "---------------------\n"
     ]
    }
   ],
   "source": [
    "for node in app.stream(\"Prasad\"):\n",
    "    for key,value in node.items():\n",
    "        print(f\"{value} ---> is the output from : {key}\")\n",
    "        print(\"---------------------\")"
   ]
  },
  {
   "cell_type": "markdown",
   "id": "83c7fe23",
   "metadata": {},
   "source": [
    "#### Let's build a Langraph, which will go a fetch a details about top 2 topic of the subject and  provides answers"
   ]
  },
  {
   "cell_type": "code",
   "execution_count": 32,
   "id": "408f0a9b",
   "metadata": {},
   "outputs": [],
   "source": [
    "from langchain_groq import ChatGroq\n",
    "from pprint import pprint"
   ]
  },
  {
   "cell_type": "code",
   "execution_count": null,
   "id": "e512fb5e",
   "metadata": {},
   "outputs": [
    {
     "data": {
      "text/plain": [
       "AIMessage(content=\"I'm functioning properly, thanks for asking. I'm a large language model, so I don't have emotions like humans do, but I'm here and ready to help with any questions or tasks you may have. How can I assist you today?\", additional_kwargs={}, response_metadata={'token_usage': {'completion_tokens': 51, 'prompt_tokens': 41, 'total_tokens': 92, 'completion_time': 0.068, 'prompt_time': 0.002070773, 'queue_time': 0.049582497, 'total_time': 0.070070773}, 'model_name': 'llama-3.1-8b-instant', 'system_fingerprint': 'fp_510c177af0', 'finish_reason': 'stop', 'logprobs': None}, id='run--c71b33b5-4505-4f33-863b-43facc5beef2-0', usage_metadata={'input_tokens': 41, 'output_tokens': 51, 'total_tokens': 92})"
      ]
     },
     "execution_count": 27,
     "metadata": {},
     "output_type": "execute_result"
    }
   ],
   "source": [
    "llm_model=ChatGroq(model=\"llama-3.1-8b-instant\",temperature=0.7) # invoke free llama model through Groq interface\n"
   ]
  },
  {
   "cell_type": "code",
   "execution_count": 97,
   "id": "39ccdc06",
   "metadata": {},
   "outputs": [],
   "source": [
    "def Topic_generator(subject):\n",
    "    response=llm_model.invoke(f\"Hi, Generate 2 main topics in {subject}, the output should be just words separated by ',' without any additional text\")\n",
    "    results=response.content.split(\",\")\n",
    "    print(results)\n",
    "    return results\n"
   ]
  },
  {
   "cell_type": "code",
   "execution_count": 102,
   "id": "43f3c1e1",
   "metadata": {},
   "outputs": [],
   "source": [
    "def description_generator(results):\n",
    "    for topic in results:\n",
    "        topic_desc=llm_model.invoke(f\"Hi, Generate 100 words about {topic}, the output should be only related to this mentioned topic\")\n",
    "        pprint(topic_desc.content)\n",
    "        print(\"____________________________\")\n",
    "        \n"
   ]
  },
  {
   "cell_type": "code",
   "execution_count": 111,
   "id": "a4064f52",
   "metadata": {},
   "outputs": [
    {
     "data": {
      "text/plain": [
       "<langgraph.graph.graph.Graph at 0x2e098bd6810>"
      ]
     },
     "execution_count": 111,
     "metadata": {},
     "output_type": "execute_result"
    }
   ],
   "source": [
    "workflow2=Graph()\n",
    "\n",
    "workflow2.add_node(\"Topic Generator\",Topic_generator)\n",
    "workflow2.add_node(\"Description Generator\",description_generator)\n",
    "\n",
    "workflow2.add_edge(\"Topic Generator\",\"Description Generator\")\n",
    "\n",
    "workflow2.set_entry_point(\"Topic Generator\")\n",
    "workflow2.set_finish_point(\"Description Generator\")\n"
   ]
  },
  {
   "cell_type": "code",
   "execution_count": 112,
   "id": "ba0ca4dd",
   "metadata": {},
   "outputs": [],
   "source": [
    "app2=workflow2.compile()"
   ]
  },
  {
   "cell_type": "code",
   "execution_count": 109,
   "id": "51436626",
   "metadata": {},
   "outputs": [
    {
     "name": "stdout",
     "output_type": "stream",
     "text": [
      "['Mechanics', 'Electromagnetism']\n",
      "Top 2 topics in Physics:\n",
      "('Mechanics is a branch of physics that deals with the study of motion and its '\n",
      " 'causes. It involves the analysis of forces, energy, and momentum in order to '\n",
      " 'understand how objects move and respond to different conditions. There are '\n",
      " 'two main types of mechanics: kinematics, which focuses on the description of '\n",
      " 'motion, and dynamics, which studies the causes of motion. Mechanics is '\n",
      " 'applied in various fields, including engineering, robotics, and computer '\n",
      " 'simulations. It provides the foundation for understanding many everyday '\n",
      " 'phenomena, such as the motion of vehicles, the behavior of electrical '\n",
      " 'systems, and the performance of mechanical devices.')\n",
      "____________________________\n",
      "('Electromagnetism is a fundamental physical phenomenon that describes the '\n",
      " 'interaction between electricity and magnetism. It is a fundamental force of '\n",
      " 'nature that governs the behavior of charged particles and is responsible for '\n",
      " 'various phenomena such as electromagnetic waves, electromagnetic induction, '\n",
      " 'and electromagnetic radiation. The electromagnetic force is a long-range '\n",
      " 'force that acts between charged particles, and it is the strongest force at '\n",
      " 'the smallest scales. The study of electromagnetism has led to numerous '\n",
      " 'technological advances, including the development of radio communication, '\n",
      " 'televisions, and electrical power transmission systems. It also has '\n",
      " 'applications in medical imaging and particle physics.')\n",
      "____________________________\n",
      "Top 2 topics in Physics:\n"
     ]
    }
   ],
   "source": [
    "for node in app2.stream(\"Physics\"):\n",
    "    for key,value in node.items():\n",
    "        print(\"Top 2 topics in Physics:\")"
   ]
  },
  {
   "cell_type": "code",
   "execution_count": 113,
   "id": "f797a29d",
   "metadata": {},
   "outputs": [
    {
     "data": {
      "image/png": "[encoded data removed]",
      "text/plain": [
       "<langgraph.graph.graph.CompiledGraph object at 0x000002E099F47150>"
      ]
     },
     "execution_count": 113,
     "metadata": {},
     "output_type": "execute_result"
    }
   ],
   "source": [
    "app2"
   ]
  },
  {
   "cell_type": "code",
   "execution_count": null,
   "id": "9ddcee58",
   "metadata": {},
   "outputs": [],
   "source": []
  }
 ],
 "metadata": {
  "kernelspec": {
   "display_name": "agentic-ai-env",
   "language": "python",
   "name": "python3"
  },
  "language_info": {
   "codemirror_mode": {
    "name": "ipython",
    "version": 3
   },
   "file_extension": ".py",
   "mimetype": "text/x-python",
   "name": "python",
   "nbconvert_exporter": "python",
   "pygments_lexer": "ipython3",
   "version": "3.11.13"
  }
 },
 "nbformat": 4,
 "nbformat_minor": 5
}
